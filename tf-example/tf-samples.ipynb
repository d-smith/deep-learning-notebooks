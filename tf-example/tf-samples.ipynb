{
 "cells": [
  {
   "cell_type": "markdown",
   "metadata": {},
   "source": [
    "# Tensors\n",
    "\n",
    "From the [programmer's guide](https://www.tensorflow.org/programmers_guide/tensors):\n",
    "\n",
    "> TensorFlow, as the name indicates, is a framework to define and run computations involving tensors. A tensor is a generalization of vectors and matrices to potentially higher dimensions. Internally, TensorFlow represents tensors as n-dimensional arrays of base datatypes."
   ]
  },
  {
   "cell_type": "code",
   "execution_count": null,
   "metadata": {},
   "outputs": [],
   "source": [
    "import tensorflow as tf\n",
    "import numpy as np"
   ]
  },
  {
   "cell_type": "code",
   "execution_count": null,
   "metadata": {},
   "outputs": [],
   "source": [
    "m1 = [[1.0, 2.0],\n",
    "      [3.0, 4.0]]\n",
    "      \n",
    "m2 = np.array([[1.0, 2.0],\n",
    "              [3.0, 4.0]], dtype=np.float32)\n",
    "               \n",
    "m3 = tf.constant([[1.0, 2.0],\n",
    "     [3.0, 4.0]])"
   ]
  },
  {
   "cell_type": "code",
   "execution_count": null,
   "metadata": {},
   "outputs": [],
   "source": [
    "print(type(m1))\n",
    "print(type(m2))\n",
    "print(type(m3))"
   ]
  },
  {
   "cell_type": "code",
   "execution_count": null,
   "metadata": {},
   "outputs": [],
   "source": [
    "t1 = tf.convert_to_tensor(m1, dtype=tf.float32)\n",
    "t2 = tf.convert_to_tensor(m2, dtype=tf.float32)\n",
    "t3 = tf.convert_to_tensor(m3, dtype=tf.float32)"
   ]
  },
  {
   "cell_type": "code",
   "execution_count": null,
   "metadata": {},
   "outputs": [],
   "source": [
    "print(type(t1))\n",
    "print(type(t2))\n",
    "print(type(t3))"
   ]
  },
  {
   "cell_type": "markdown",
   "metadata": {},
   "source": [
    "Each tensor has a data type and a shape"
   ]
  },
  {
   "cell_type": "code",
   "execution_count": null,
   "metadata": {},
   "outputs": [],
   "source": [
    "t = tf.constant([[1.0, 2.0, 3.0],\n",
    "     [3.0, 4.0, 5.0]])\n",
    "print(t.dtype)\n",
    "print(t.get_shape())"
   ]
  },
  {
   "cell_type": "code",
   "execution_count": null,
   "metadata": {},
   "outputs": [],
   "source": [
    "# In tensor flow we can think of the rank as the number of indices needed to\n",
    "# specify an element.\n",
    "my_image = tf.zeros([10, 299, 299, 3])  # batch x height x width x color\n",
    "r = tf.rank(my_image)\n",
    "with tf.Session() as sess:\n",
    "    rank_val = sess.run([r])\n",
    "    print(rank_val)"
   ]
  },
  {
   "cell_type": "markdown",
   "metadata": {},
   "source": [
    "### Initialization\n",
    "\n",
    "Tensor flow has some covenience methods for creating tensors initialized with zeros (tf.zero) and ones (tf.ones). Both take a shape argument."
   ]
  },
  {
   "cell_type": "code",
   "execution_count": null,
   "metadata": {},
   "outputs": [],
   "source": [
    "a = tf.ones([5,5]) * 0.5\n",
    "print(a)"
   ]
  },
  {
   "cell_type": "code",
   "execution_count": null,
   "metadata": {},
   "outputs": [],
   "source": [
    "with tf.Session() as sess:\n",
    "    print(sess.run([a]))"
   ]
  },
  {
   "cell_type": "code",
   "execution_count": null,
   "metadata": {},
   "outputs": [],
   "source": []
  }
 ],
 "metadata": {
  "kernelspec": {
   "display_name": "Python 3",
   "language": "python",
   "name": "python3"
  },
  "language_info": {
   "codemirror_mode": {
    "name": "ipython",
    "version": 3
   },
   "file_extension": ".py",
   "mimetype": "text/x-python",
   "name": "python",
   "nbconvert_exporter": "python",
   "pygments_lexer": "ipython3",
   "version": "3.6.2"
  }
 },
 "nbformat": 4,
 "nbformat_minor": 2
}
