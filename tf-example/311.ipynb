{
 "cells": [
  {
   "cell_type": "code",
   "execution_count": null,
   "metadata": {},
   "outputs": [],
   "source": [
    "import csv\n",
    "import time\n",
    "\n",
    "def read(filename, date_idx, date_parse, year, bucket=7):\n",
    "    days_in_year=365\n",
    "    \n",
    "    freq = {}\n",
    "    for period in range(0, int(days_in_year/bucket)):\n",
    "        freq[period] = 0\n",
    "        \n",
    "    with open(filename, 'rt') as csvfile:\n",
    "        csvreader = csv.reader(csvfile)\n",
    "        csvreader.__next__()\n",
    "        for row in csvreader:\n",
    "            if row[date_idx] == '':\n",
    "                continue\n",
    "            t = time.strptime(row[date_idx], date_parse)\n",
    "            if t.tm_year == year and t.tm_yday < (days_in_year-1):\n",
    "                freq[int(t.tm_yday / bucket)] += 1\n",
    "    return freq"
   ]
  },
  {
   "cell_type": "code",
   "execution_count": null,
   "metadata": {},
   "outputs": [],
   "source": [
    "# File comes from http://mng.bz/6vHx\n",
    "freq = read('311.csv', 0, '%m/%d/%Y', 2014)"
   ]
  },
  {
   "cell_type": "code",
   "execution_count": null,
   "metadata": {},
   "outputs": [],
   "source": [
    "len(freq)"
   ]
  },
  {
   "cell_type": "code",
   "execution_count": null,
   "metadata": {},
   "outputs": [],
   "source": [
    "freq"
   ]
  },
  {
   "cell_type": "code",
   "execution_count": null,
   "metadata": {},
   "outputs": [],
   "source": []
  }
 ],
 "metadata": {
  "kernelspec": {
   "display_name": "Python 3",
   "language": "python",
   "name": "python3"
  },
  "language_info": {
   "codemirror_mode": {
    "name": "ipython",
    "version": 3
   },
   "file_extension": ".py",
   "mimetype": "text/x-python",
   "name": "python",
   "nbconvert_exporter": "python",
   "pygments_lexer": "ipython3",
   "version": "3.6.5"
  }
 },
 "nbformat": 4,
 "nbformat_minor": 2
}
